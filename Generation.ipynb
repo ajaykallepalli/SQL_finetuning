{
 "cells": [
  {
   "cell_type": "code",
   "execution_count": 24,
   "id": "1f40aca1",
   "metadata": {},
   "outputs": [],
   "source": [
    "import pandas as pd\n",
    "import os\n",
    "from datasets import Dataset\n",
    "from tqdm import tqdm\n",
    "import time"
   ]
  },
  {
   "cell_type": "markdown",
   "id": "e5e7288f",
   "metadata": {},
   "source": [
    "Load in the test/validation dataset"
   ]
  },
  {
   "cell_type": "code",
   "execution_count": 4,
   "id": "25689d8f",
   "metadata": {},
   "outputs": [
    {
     "name": "stdout",
     "output_type": "stream",
     "text": [
      "Downloaded data\n"
     ]
    }
   ],
   "source": [
    "# Save df if does not exist\n",
    "csv_file_path = '/Users/ajaykallepalli/data/SQL_df_validation.csv'\n",
    "if not os.path.exists(csv_file_path):\n",
    "    splits = {'test': 'spider/train-00000-of-00001.parquet', 'validation': 'spider/validation-00000-of-00001.parquet'}\n",
    "    df_test = pd.read_parquet(\"hf://datasets/xlangai/spider/\" + splits[\"validation\"])\n",
    "    df_test.to_csv(csv_file_path, index=False)\n",
    "    print(\"Downloaded data\")\n",
    "else:\n",
    "    print(\"Already downloaded\")"
   ]
  },
  {
   "cell_type": "code",
   "execution_count": 5,
   "id": "843f5c70",
   "metadata": {},
   "outputs": [
    {
     "data": {
      "text/html": [
       "<div>\n",
       "<style scoped>\n",
       "    .dataframe tbody tr th:only-of-type {\n",
       "        vertical-align: middle;\n",
       "    }\n",
       "\n",
       "    .dataframe tbody tr th {\n",
       "        vertical-align: top;\n",
       "    }\n",
       "\n",
       "    .dataframe thead th {\n",
       "        text-align: right;\n",
       "    }\n",
       "</style>\n",
       "<table border=\"1\" class=\"dataframe\">\n",
       "  <thead>\n",
       "    <tr style=\"text-align: right;\">\n",
       "      <th></th>\n",
       "      <th>db_id</th>\n",
       "      <th>query</th>\n",
       "      <th>question</th>\n",
       "      <th>query_toks</th>\n",
       "      <th>query_toks_no_value</th>\n",
       "      <th>question_toks</th>\n",
       "    </tr>\n",
       "  </thead>\n",
       "  <tbody>\n",
       "    <tr>\n",
       "      <th>0</th>\n",
       "      <td>concert_singer</td>\n",
       "      <td>SELECT count(*) FROM singer</td>\n",
       "      <td>How many singers do we have?</td>\n",
       "      <td>[SELECT, count, (, *, ), FROM, singer]</td>\n",
       "      <td>[select, count, (, *, ), from, singer]</td>\n",
       "      <td>[How, many, singers, do, we, have, ?]</td>\n",
       "    </tr>\n",
       "    <tr>\n",
       "      <th>1</th>\n",
       "      <td>concert_singer</td>\n",
       "      <td>SELECT count(*) FROM singer</td>\n",
       "      <td>What is the total number of singers?</td>\n",
       "      <td>[SELECT, count, (, *, ), FROM, singer]</td>\n",
       "      <td>[select, count, (, *, ), from, singer]</td>\n",
       "      <td>[What, is, the, total, number, of, singers, ?]</td>\n",
       "    </tr>\n",
       "    <tr>\n",
       "      <th>2</th>\n",
       "      <td>concert_singer</td>\n",
       "      <td>SELECT name ,  country ,  age FROM singer ORDE...</td>\n",
       "      <td>Show name, country, age for all singers ordere...</td>\n",
       "      <td>[SELECT, name, ,, country, ,, age, FROM, singe...</td>\n",
       "      <td>[select, name, ,, country, ,, age, from, singe...</td>\n",
       "      <td>[Show, name, ,, country, ,, age, for, all, sin...</td>\n",
       "    </tr>\n",
       "    <tr>\n",
       "      <th>3</th>\n",
       "      <td>concert_singer</td>\n",
       "      <td>SELECT name ,  country ,  age FROM singer ORDE...</td>\n",
       "      <td>What are the names, countries, and ages for ev...</td>\n",
       "      <td>[SELECT, name, ,, country, ,, age, FROM, singe...</td>\n",
       "      <td>[select, name, ,, country, ,, age, from, singe...</td>\n",
       "      <td>[What, are, the, names, ,, countries, ,, and, ...</td>\n",
       "    </tr>\n",
       "    <tr>\n",
       "      <th>4</th>\n",
       "      <td>concert_singer</td>\n",
       "      <td>SELECT avg(age) ,  min(age) ,  max(age) FROM s...</td>\n",
       "      <td>What is the average, minimum, and maximum age ...</td>\n",
       "      <td>[SELECT, avg, (, age, ), ,, min, (, age, ), ,,...</td>\n",
       "      <td>[select, avg, (, age, ), ,, min, (, age, ), ,,...</td>\n",
       "      <td>[What, is, the, average, ,, minimum, ,, and, m...</td>\n",
       "    </tr>\n",
       "  </tbody>\n",
       "</table>\n",
       "</div>"
      ],
      "text/plain": [
       "            db_id                                              query  \\\n",
       "0  concert_singer                        SELECT count(*) FROM singer   \n",
       "1  concert_singer                        SELECT count(*) FROM singer   \n",
       "2  concert_singer  SELECT name ,  country ,  age FROM singer ORDE...   \n",
       "3  concert_singer  SELECT name ,  country ,  age FROM singer ORDE...   \n",
       "4  concert_singer  SELECT avg(age) ,  min(age) ,  max(age) FROM s...   \n",
       "\n",
       "                                            question  \\\n",
       "0                       How many singers do we have?   \n",
       "1               What is the total number of singers?   \n",
       "2  Show name, country, age for all singers ordere...   \n",
       "3  What are the names, countries, and ages for ev...   \n",
       "4  What is the average, minimum, and maximum age ...   \n",
       "\n",
       "                                          query_toks  \\\n",
       "0             [SELECT, count, (, *, ), FROM, singer]   \n",
       "1             [SELECT, count, (, *, ), FROM, singer]   \n",
       "2  [SELECT, name, ,, country, ,, age, FROM, singe...   \n",
       "3  [SELECT, name, ,, country, ,, age, FROM, singe...   \n",
       "4  [SELECT, avg, (, age, ), ,, min, (, age, ), ,,...   \n",
       "\n",
       "                                 query_toks_no_value  \\\n",
       "0             [select, count, (, *, ), from, singer]   \n",
       "1             [select, count, (, *, ), from, singer]   \n",
       "2  [select, name, ,, country, ,, age, from, singe...   \n",
       "3  [select, name, ,, country, ,, age, from, singe...   \n",
       "4  [select, avg, (, age, ), ,, min, (, age, ), ,,...   \n",
       "\n",
       "                                       question_toks  \n",
       "0              [How, many, singers, do, we, have, ?]  \n",
       "1     [What, is, the, total, number, of, singers, ?]  \n",
       "2  [Show, name, ,, country, ,, age, for, all, sin...  \n",
       "3  [What, are, the, names, ,, countries, ,, and, ...  \n",
       "4  [What, is, the, average, ,, minimum, ,, and, m...  "
      ]
     },
     "execution_count": 5,
     "metadata": {},
     "output_type": "execute_result"
    }
   ],
   "source": [
    "df_test.head()"
   ]
  },
  {
   "cell_type": "code",
   "execution_count": 6,
   "id": "31644968",
   "metadata": {},
   "outputs": [],
   "source": [
    "#Generate test_gold.sql to test the responses against\n",
    "queries = df_test['query']\n",
    "\n",
    "with open('/Users/ajaykallepalli/data/test_gold.sql', 'w') as file:\n",
    "    for query in queries:\n",
    "        file.write(query + '\\n')"
   ]
  },
  {
   "cell_type": "code",
   "execution_count": 8,
   "id": "2d795c05",
   "metadata": {},
   "outputs": [
    {
     "data": {
      "text/plain": [
       "array(['concert_singer', 'pets_1', 'car_1', 'flight_2',\n",
       "       'employee_hire_evaluation', 'cre_Doc_Template_Mgt', 'course_teach',\n",
       "       'museum_visit', 'wta_1', 'battle_death',\n",
       "       'student_transcripts_tracking', 'tvshow', 'poker_player',\n",
       "       'voter_1', 'world_1', 'orchestra', 'network_1', 'dog_kennels',\n",
       "       'singer', 'real_estate_properties'], dtype=object)"
      ]
     },
     "execution_count": 8,
     "metadata": {},
     "output_type": "execute_result"
    }
   ],
   "source": [
    "### Creating the input text for the llm\n",
    "unique_dbs_test = df_test['db_id'].unique()\n",
    "unique_dbs_test"
   ]
  },
  {
   "cell_type": "code",
   "execution_count": 11,
   "id": "3f6302b7",
   "metadata": {},
   "outputs": [],
   "source": [
    "# # creating a db with db ID and db schema as columns\n",
    "df_schemas = pd.DataFrame(columns=['db_id', 'db_schema'])"
   ]
  },
  {
   "cell_type": "code",
   "execution_count": 7,
   "id": "509ad015",
   "metadata": {},
   "outputs": [],
   "source": [
    "schema_location = '/Users/ajaykallepalli/data/spider/database/'\n",
    "schema_name = 'schema.sql'"
   ]
  },
  {
   "cell_type": "code",
   "execution_count": 12,
   "id": "ff905021",
   "metadata": {},
   "outputs": [
    {
     "name": "stdout",
     "output_type": "stream",
     "text": [
      "/Users/ajaykallepalli/data/spider/database/concert_singer/schema.sql\n",
      "/Users/ajaykallepalli/data/spider/database/pets_1/schema.sql\n",
      "/Users/ajaykallepalli/data/spider/database/car_1/schema.sql\n",
      "Schema file not found for car_1\n",
      "/Users/ajaykallepalli/data/spider/database/flight_2/schema.sql\n",
      "Schema file not found for flight_2\n",
      "/Users/ajaykallepalli/data/spider/database/employee_hire_evaluation/schema.sql\n",
      "/Users/ajaykallepalli/data/spider/database/cre_Doc_Template_Mgt/schema.sql\n",
      "/Users/ajaykallepalli/data/spider/database/course_teach/schema.sql\n",
      "/Users/ajaykallepalli/data/spider/database/museum_visit/schema.sql\n",
      "/Users/ajaykallepalli/data/spider/database/wta_1/schema.sql\n",
      "Schema file not found for wta_1\n",
      "/Users/ajaykallepalli/data/spider/database/battle_death/schema.sql\n",
      "/Users/ajaykallepalli/data/spider/database/student_transcripts_tracking/schema.sql\n",
      "/Users/ajaykallepalli/data/spider/database/tvshow/schema.sql\n",
      "/Users/ajaykallepalli/data/spider/database/poker_player/schema.sql\n",
      "/Users/ajaykallepalli/data/spider/database/voter_1/schema.sql\n",
      "Schema file not found for voter_1\n",
      "/Users/ajaykallepalli/data/spider/database/world_1/schema.sql\n",
      "Schema file not found for world_1\n",
      "/Users/ajaykallepalli/data/spider/database/orchestra/schema.sql\n",
      "/Users/ajaykallepalli/data/spider/database/network_1/schema.sql\n",
      "/Users/ajaykallepalli/data/spider/database/dog_kennels/schema.sql\n",
      "/Users/ajaykallepalli/data/spider/database/singer/schema.sql\n",
      "/Users/ajaykallepalli/data/spider/database/real_estate_properties/schema.sql\n"
     ]
    }
   ],
   "source": [
    "\n",
    "for uniq_db in unique_dbs_test:\n",
    "    schema_file = os.path.join(schema_location, uniq_db, schema_name)\n",
    "    print(schema_file)\n",
    "    if os.path.exists(schema_file):\n",
    "        with open(schema_file, 'r') as f:\n",
    "            schema_content = f.read()\n",
    "        df_schemas = pd.concat([df_schemas, pd.DataFrame({'db_id': [uniq_db], 'db_schema': [schema_content]})], ignore_index=True)\n",
    "    else:\n",
    "        print(f\"Schema file not found for {uniq_db}\")"
   ]
  },
  {
   "cell_type": "code",
   "execution_count": 13,
   "id": "963f4291",
   "metadata": {},
   "outputs": [
    {
     "name": "stdout",
     "output_type": "stream",
     "text": [
      "Schemas CSV file already exists at /Users/ajaykallepalli/data/df_schemas.csv\n",
      "Shape of df_schemas: (15, 2)\n"
     ]
    }
   ],
   "source": [
    "# Save the df_schemas DataFrame to a CSV file\n",
    "csv_schemas_file_path = '/Users/ajaykallepalli/data/df_schemas.csv'\n",
    "\n",
    "if not os.path.exists(csv_schemas_file_path):\n",
    "    df_schemas.to_csv(csv_schemas_file_path, index=False)\n",
    "    print(f\"Schemas CSV file saved to {csv_schemas_file_path}\")\n",
    "else:\n",
    "    print(f\"Schemas CSV file already exists at {csv_schemas_file_path}\")\n",
    "\n",
    "# Print the shape of df_schemas\n",
    "print(\"Shape of df_schemas:\", df_schemas.shape)"
   ]
  },
  {
   "cell_type": "code",
   "execution_count": 14,
   "id": "2959a8f0",
   "metadata": {},
   "outputs": [
    {
     "name": "stdout",
     "output_type": "stream",
     "text": [
      "Warning: 369 rows have missing schemas.\n",
      "Unique db_ids with missing schemas: ['car_1' 'flight_2' 'wta_1' 'voter_1' 'world_1']\n",
      "Shape of df_test after merge: (1034, 7)\n",
      "Columns in df_test: Index(['db_id', 'query', 'question', 'query_toks', 'query_toks_no_value',\n",
      "       'question_toks', 'db_schema'],\n",
      "      dtype='object')\n",
      "Null value counts:\n",
      " db_id                    0\n",
      "query                    0\n",
      "question                 0\n",
      "query_toks               0\n",
      "query_toks_no_value      0\n",
      "question_toks            0\n",
      "db_schema              369\n",
      "dtype: int64\n"
     ]
    }
   ],
   "source": [
    "## Joining the df_schema to the test data.\n",
    "df_test = df_test.merge(df_schemas, on='db_id', how='left')\n",
    "\n",
    "# Check for any missing schemas\n",
    "missing_schemas = df_test[df_test['db_schema'].isnull()]\n",
    "if not missing_schemas.empty:\n",
    "    print(f\"Warning: {len(missing_schemas)} rows have missing schemas.\")\n",
    "    print(\"Unique db_ids with missing schemas:\", missing_schemas['db_id'].unique())\n",
    "\n",
    "# Verify the merge\n",
    "print(\"Shape of df_test after merge:\", df_test.shape)\n",
    "print(\"Columns in df_test:\", df_test.columns)\n",
    "\n",
    "# Check for null values in the merged dataframe\n",
    "null_counts = df_test.isnull().sum()\n",
    "print(\"Null value counts:\\n\", null_counts)\n",
    "\n"
   ]
  },
  {
   "cell_type": "code",
   "execution_count": 16,
   "id": "02a8c83d",
   "metadata": {},
   "outputs": [
    {
     "name": "stdout",
     "output_type": "stream",
     "text": [
      "Shape of df_schema_test after keeping 20 of each schema: (278, 7)\n",
      "Number of unique schemas: 15\n",
      "File saved to /Users/ajaykallepalli/data/df_schema_test.csv\n",
      "Shape of df_schema_test after removing NA values: (278, 7)\n"
     ]
    },
    {
     "name": "stderr",
     "output_type": "stream",
     "text": [
      "/var/folders/fv/cybn9l2570jbqgz027rmgkbh0000gn/T/ipykernel_29236/1461863436.py:4: DeprecationWarning: DataFrameGroupBy.apply operated on the grouping columns. This behavior is deprecated, and in a future version of pandas the grouping columns will be excluded from the operation. Either pass `include_groups=False` to exclude the groupings or explicitly select the grouping columns after groupby to silence this warning.\n",
      "  df_schema_test = df_schema_test.groupby('db_id').apply(lambda x: x.head(20)).reset_index(drop=True)\n"
     ]
    }
   ],
   "source": [
    "# Remove all NA values from df_test\n",
    "df_schema_test = df_test.dropna()\n",
    "# Group by 'db_id' and keep only the first 20 rows for each schema\n",
    "df_schema_test = df_schema_test.groupby('db_id').apply(lambda x: x.head(20)).reset_index(drop=True)\n",
    "\n",
    "# Print the shape of the new dataframe after keeping only 20 of each schema\n",
    "print(\"Shape of df_schema_test after keeping 20 of each schema:\", df_schema_test.shape)\n",
    "\n",
    "# Print the number of unique schemas\n",
    "print(\"Number of unique schemas:\", df_schema_test['db_id'].nunique())\n",
    "\n",
    "# Define the path for the CSV file\n",
    "csv_schema_file_path = '/Users/ajaykallepalli/data/df_schema_test.csv'\n",
    "\n",
    "# Save the new dataframe to the same folder\n",
    "if not os.path.exists(csv_schema_file_path):\n",
    "    df_schema_test.to_csv(csv_schema_file_path, index=False)\n",
    "    print(f\"File saved to {csv_schema_file_path}\")\n",
    "else:\n",
    "    print(f\"File already exists at {csv_schema_file_path}\")\n",
    "\n",
    "# Print the shape of the new dataframe\n",
    "print(\"Shape of df_schema_test after removing NA values:\", df_schema_test.shape)"
   ]
  },
  {
   "cell_type": "code",
   "execution_count": 20,
   "id": "f8019dc6",
   "metadata": {},
   "outputs": [],
   "source": [
    "df_schema_test['instruction'] = 'You are an agent designed to interact with a SQL database. \\n Given an input question, create a syntactically correct SQL query to provide to the user based on the below schema:\\n'"
   ]
  },
  {
   "cell_type": "code",
   "execution_count": 21,
   "id": "5d0dd208",
   "metadata": {},
   "outputs": [
    {
     "data": {
      "text/html": [
       "<div>\n",
       "<style scoped>\n",
       "    .dataframe tbody tr th:only-of-type {\n",
       "        vertical-align: middle;\n",
       "    }\n",
       "\n",
       "    .dataframe tbody tr th {\n",
       "        vertical-align: top;\n",
       "    }\n",
       "\n",
       "    .dataframe thead th {\n",
       "        text-align: right;\n",
       "    }\n",
       "</style>\n",
       "<table border=\"1\" class=\"dataframe\">\n",
       "  <thead>\n",
       "    <tr style=\"text-align: right;\">\n",
       "      <th></th>\n",
       "      <th>db_id</th>\n",
       "      <th>query</th>\n",
       "      <th>question</th>\n",
       "      <th>query_toks</th>\n",
       "      <th>query_toks_no_value</th>\n",
       "      <th>question_toks</th>\n",
       "      <th>db_schema</th>\n",
       "      <th>instruction</th>\n",
       "    </tr>\n",
       "  </thead>\n",
       "  <tbody>\n",
       "    <tr>\n",
       "      <th>0</th>\n",
       "      <td>battle_death</td>\n",
       "      <td>SELECT count(*) FROM ship WHERE disposition_of...</td>\n",
       "      <td>How many ships ended up being 'Captured'?</td>\n",
       "      <td>[SELECT, count, (, *, ), FROM, ship, WHERE, di...</td>\n",
       "      <td>[select, count, (, *, ), from, ship, where, di...</td>\n",
       "      <td>[How, many, ships, ended, up, being, 'Captured...</td>\n",
       "      <td>PRAGMA foreign_keys = ON;\\nCREATE TABLE \"battl...</td>\n",
       "      <td>You are an agent designed to interact with a S...</td>\n",
       "    </tr>\n",
       "    <tr>\n",
       "      <th>1</th>\n",
       "      <td>battle_death</td>\n",
       "      <td>SELECT name ,  tonnage FROM ship ORDER BY name...</td>\n",
       "      <td>List the name and tonnage ordered by in descen...</td>\n",
       "      <td>[SELECT, name, ,, tonnage, FROM, ship, ORDER, ...</td>\n",
       "      <td>[select, name, ,, tonnage, from, ship, order, ...</td>\n",
       "      <td>[List, the, name, and, tonnage, ordered, by, i...</td>\n",
       "      <td>PRAGMA foreign_keys = ON;\\nCREATE TABLE \"battl...</td>\n",
       "      <td>You are an agent designed to interact with a S...</td>\n",
       "    </tr>\n",
       "    <tr>\n",
       "      <th>2</th>\n",
       "      <td>battle_death</td>\n",
       "      <td>SELECT name ,  date FROM battle</td>\n",
       "      <td>List the name, date and result of each battle.</td>\n",
       "      <td>[SELECT, name, ,, date, FROM, battle]</td>\n",
       "      <td>[select, name, ,, date, from, battle]</td>\n",
       "      <td>[List, the, name, ,, date, and, result, of, ea...</td>\n",
       "      <td>PRAGMA foreign_keys = ON;\\nCREATE TABLE \"battl...</td>\n",
       "      <td>You are an agent designed to interact with a S...</td>\n",
       "    </tr>\n",
       "    <tr>\n",
       "      <th>3</th>\n",
       "      <td>battle_death</td>\n",
       "      <td>SELECT max(killed) ,  min(killed) FROM death</td>\n",
       "      <td>What is maximum and minimum death toll caused ...</td>\n",
       "      <td>[SELECT, max, (, killed, ), ,, min, (, killed,...</td>\n",
       "      <td>[select, max, (, killed, ), ,, min, (, killed,...</td>\n",
       "      <td>[What, is, maximum, and, minimum, death, toll,...</td>\n",
       "      <td>PRAGMA foreign_keys = ON;\\nCREATE TABLE \"battl...</td>\n",
       "      <td>You are an agent designed to interact with a S...</td>\n",
       "    </tr>\n",
       "    <tr>\n",
       "      <th>4</th>\n",
       "      <td>battle_death</td>\n",
       "      <td>SELECT avg(injured) FROM death</td>\n",
       "      <td>What is the average number of injuries caused ...</td>\n",
       "      <td>[SELECT, avg, (, injured, ), FROM, death]</td>\n",
       "      <td>[select, avg, (, injured, ), from, death]</td>\n",
       "      <td>[What, is, the, average, number, of, injuries,...</td>\n",
       "      <td>PRAGMA foreign_keys = ON;\\nCREATE TABLE \"battl...</td>\n",
       "      <td>You are an agent designed to interact with a S...</td>\n",
       "    </tr>\n",
       "  </tbody>\n",
       "</table>\n",
       "</div>"
      ],
      "text/plain": [
       "          db_id                                              query  \\\n",
       "0  battle_death  SELECT count(*) FROM ship WHERE disposition_of...   \n",
       "1  battle_death  SELECT name ,  tonnage FROM ship ORDER BY name...   \n",
       "2  battle_death                    SELECT name ,  date FROM battle   \n",
       "3  battle_death       SELECT max(killed) ,  min(killed) FROM death   \n",
       "4  battle_death                     SELECT avg(injured) FROM death   \n",
       "\n",
       "                                            question  \\\n",
       "0          How many ships ended up being 'Captured'?   \n",
       "1  List the name and tonnage ordered by in descen...   \n",
       "2     List the name, date and result of each battle.   \n",
       "3  What is maximum and minimum death toll caused ...   \n",
       "4  What is the average number of injuries caused ...   \n",
       "\n",
       "                                          query_toks  \\\n",
       "0  [SELECT, count, (, *, ), FROM, ship, WHERE, di...   \n",
       "1  [SELECT, name, ,, tonnage, FROM, ship, ORDER, ...   \n",
       "2              [SELECT, name, ,, date, FROM, battle]   \n",
       "3  [SELECT, max, (, killed, ), ,, min, (, killed,...   \n",
       "4          [SELECT, avg, (, injured, ), FROM, death]   \n",
       "\n",
       "                                 query_toks_no_value  \\\n",
       "0  [select, count, (, *, ), from, ship, where, di...   \n",
       "1  [select, name, ,, tonnage, from, ship, order, ...   \n",
       "2              [select, name, ,, date, from, battle]   \n",
       "3  [select, max, (, killed, ), ,, min, (, killed,...   \n",
       "4          [select, avg, (, injured, ), from, death]   \n",
       "\n",
       "                                       question_toks  \\\n",
       "0  [How, many, ships, ended, up, being, 'Captured...   \n",
       "1  [List, the, name, and, tonnage, ordered, by, i...   \n",
       "2  [List, the, name, ,, date, and, result, of, ea...   \n",
       "3  [What, is, maximum, and, minimum, death, toll,...   \n",
       "4  [What, is, the, average, number, of, injuries,...   \n",
       "\n",
       "                                           db_schema  \\\n",
       "0  PRAGMA foreign_keys = ON;\\nCREATE TABLE \"battl...   \n",
       "1  PRAGMA foreign_keys = ON;\\nCREATE TABLE \"battl...   \n",
       "2  PRAGMA foreign_keys = ON;\\nCREATE TABLE \"battl...   \n",
       "3  PRAGMA foreign_keys = ON;\\nCREATE TABLE \"battl...   \n",
       "4  PRAGMA foreign_keys = ON;\\nCREATE TABLE \"battl...   \n",
       "\n",
       "                                         instruction  \n",
       "0  You are an agent designed to interact with a S...  \n",
       "1  You are an agent designed to interact with a S...  \n",
       "2  You are an agent designed to interact with a S...  \n",
       "3  You are an agent designed to interact with a S...  \n",
       "4  You are an agent designed to interact with a S...  "
      ]
     },
     "execution_count": 21,
     "metadata": {},
     "output_type": "execute_result"
    }
   ],
   "source": [
    "df_schema_test.head()"
   ]
  },
  {
   "cell_type": "code",
   "execution_count": null,
   "id": "69614590",
   "metadata": {},
   "outputs": [],
   "source": []
  },
  {
   "cell_type": "markdown",
   "id": "661058bb",
   "metadata": {},
   "source": [
    "Creating a List of input questions for the llm using the format of system instruction, schema, and Answer:"
   ]
  },
  {
   "cell_type": "code",
   "execution_count": null,
   "id": "70765538",
   "metadata": {},
   "outputs": [],
   "source": [
    "SQL_prompt = \"\"\"Below is an instruction that describes a task, paired with an input that provides further context. Write a response that appropriately completes the request.\n",
    "\n",
    "### Instruction:\n",
    "{}\n",
    "{}\n",
    "\n",
    "### Input:\n",
    "{}\n",
    "\n",
    "### Response: \"\"\"\n",
    "\n",
    "EOS_TOKEN = tokenizer.eos_token # Must add EOS_TOKEN\n",
    "def formatting_prompts_func(examples):\n",
    "    instructions = examples[\"instruction\"]\n",
    "    schema = examples[\"db_schema\"]\n",
    "    inputs = examples[\"question\"]\n",
    "    outputs = examples[\"query\"]\n",
    "    texts = []\n",
    "    for instruction, schema, input, output in zip(instructions, schema, inputs, outputs):\n",
    "        # Must add EOS_TOKEN, otherwise your generation will go on forever!\n",
    "        text = SQL_prompt.format(instruction, schema[0:15000], input, output)\n",
    "        texts.append(text)\n",
    "    return { \"text\" : texts, }\n",
    "pass\n",
    "dataset = Dataset.from_pandas(df_schema_test)\n",
    "dataset = dataset.map(formatting_prompts_func, batched = True,)"
   ]
  }
 ],
 "metadata": {
  "kernelspec": {
   "display_name": "Python 3 (ipykernel)",
   "language": "python",
   "name": "python3"
  },
  "language_info": {
   "codemirror_mode": {
    "name": "ipython",
    "version": 3
   },
   "file_extension": ".py",
   "mimetype": "text/x-python",
   "name": "python",
   "nbconvert_exporter": "python",
   "pygments_lexer": "ipython3",
   "version": "3.10.14"
  }
 },
 "nbformat": 4,
 "nbformat_minor": 5
}
