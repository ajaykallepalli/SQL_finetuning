{
 "cells": [
  {
   "cell_type": "code",
   "execution_count": null,
   "id": "25689d8f",
   "metadata": {},
   "outputs": [],
   "source": [
    "emails = pd.Series(['alice.smith@example.com',\n",
    "                    'bob.johnson@workplace.org',\n",
    "                    'charlie.brown@school.edu'])"
   ]
  },
  {
   "cell_type": "code",
   "execution_count": null,
   "id": "9c2b96cf",
   "metadata": {},
   "outputs": [],
   "source": [
    "emails.split('@')[:][1]"
   ]
  }
 ],
 "metadata": {
  "kernelspec": {
   "display_name": "Python 3 (ipykernel)",
   "language": "python",
   "name": "python3"
  },
  "language_info": {
   "codemirror_mode": {
    "name": "ipython",
    "version": 3
   },
   "file_extension": ".py",
   "mimetype": "text/x-python",
   "name": "python",
   "nbconvert_exporter": "python",
   "pygments_lexer": "ipython3",
   "version": "3.10.14"
  }
 },
 "nbformat": 4,
 "nbformat_minor": 5
}
